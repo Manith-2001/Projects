{
  "nbformat": 4,
  "nbformat_minor": 0,
  "metadata": {
    "colab": {
      "name": "Copy of MedicalChatbot_final.ipynb",
      "provenance": [],
      "authorship_tag": "ABX9TyNd6zXnEggdYb/iMi1QbEup"
    },
    "kernelspec": {
      "name": "python3",
      "display_name": "Python 3"
    },
    "language_info": {
      "name": "python"
    },
    "accelerator": "GPU"
  },
  "cells": [
    {
      "cell_type": "code",
      "metadata": {
        "id": "GWXMzzRYmPRp"
      },
      "source": [
        "import tensorflow as tf\n",
        "from tensorflow import keras\n",
        "from tensorflow.keras.preprocessing.text import Tokenizer\n",
        "import json\n",
        "from tensorflow.keras.preprocessing.sequence import pad_sequences\n",
        "from tensorflow.keras.layers import Embedding, LSTM, Dense, Dropout, Bidirectional\n",
        "from tensorflow.keras.models import Sequential\n",
        "from tensorflow.keras.optimizers import Adam\n",
        "from tensorflow.keras import regularizers\n",
        "import numpy as np\n",
        "import tensorflow.keras.utils as ku\n",
        "from nltk import PorterStemmer"
      ],
      "execution_count": null,
      "outputs": []
    },
    {
      "cell_type": "code",
      "metadata": {
        "id": "kZHcH0PmE84V"
      },
      "source": [
        "stemmer = PorterStemmer()"
      ],
      "execution_count": null,
      "outputs": []
    },
    {
      "cell_type": "code",
      "metadata": {
        "colab": {
          "base_uri": "https://localhost:8080/"
        },
        "id": "yBFPqh33J6sJ",
        "outputId": "d2a50da5-23ec-4325-ce23-b2db683c4665"
      },
      "source": [
        "from zipfile import ZipFile\n",
        "file_name = 'archive.zip'\n",
        "with ZipFile(file_name, 'r') as zip:\n",
        "  zip.extractall()\n",
        "  print('Done')"
      ],
      "execution_count": null,
      "outputs": [
        {
          "output_type": "stream",
          "text": [
            "Done\n"
          ],
          "name": "stdout"
        }
      ]
    },
    {
      "cell_type": "code",
      "metadata": {
        "id": "vJExg3dYnM9P"
      },
      "source": [
        "with open(\"/content/intents.json\") as file:\n",
        "  data = json.load(file)"
      ],
      "execution_count": null,
      "outputs": []
    },
    {
      "cell_type": "code",
      "metadata": {
        "colab": {
          "base_uri": "https://localhost:8080/"
        },
        "id": "xl2Q4OJFnnsC",
        "outputId": "5e7be57b-b84a-4dda-c856-4a6dda3b5bee"
      },
      "source": [
        "x = []\n",
        "labels = []\n",
        "i = 0\n",
        "for intent in data['intents']:\n",
        "  for pattern in intent['patterns']:\n",
        "    x.append(pattern)\n",
        "\n",
        "  if intent['tag'] not in labels:\n",
        "    labels.append(intent['tag'])\n",
        "\n",
        "print(x)\n",
        "\n"
      ],
      "execution_count": null,
      "outputs": [
        {
          "output_type": "stream",
          "text": [
            "['What to do if Cuts?', 'How to cure Cuts?', 'Which medicine to apply for Cuts?', 'what to apply on cuts?', 'Cuts', 'how do you treat abrasions?', 'Do Abrasions cause scars?', 'Abrasions', 'what to do if abrasions?', 'Which medicine to apply for abrasions?', 'How to cure abrasions?', 'How do you treat Sting?', 'Stings', 'What to do if you get a sting?', 'Which medicine to apply if sting?', 'How to remove Splinters', 'How to cure Splinters?', 'What to do if I have splinters?', 'How do you bring a splinter to the surface?', 'How do you treat a sprain?', 'what to do if i get a sprain?', 'Which cream to apply if i get a sprain?', 'Which medicine to apply if I get a sprain?', 'How do you treat a strain?', 'what to do if i get a strain?', 'Which cream to apply if i get a strain?', 'Which medicine to apply if I get a strain?', 'How do you diagnose a strain?', 'Is heat or ice better for a pulled muscle?', 'How do you treat a mild Fever?', 'what to do if i get a mild fever?', 'Which medicine to take if I get a mild fever?', 'fever', 'How do you treat nasal Congestion?', 'what to do if i get a nasal congestion?', 'Which medicine to take if I have a nasal congestion?', 'what to do if i have a blocked nose?', 'How do you treat a blocked nose?', 'How long does nasal congestion last?', 'How to cure cough?', 'How do you treat cough?', 'what to do if i get a cough?', 'Which medicine to take if I get cough?', 'How do you get rid of cough?', 'How do you treat sore throat?', 'what to do if i get a sore throat?', 'Which medicine to take if I get a sore throat?', 'How to cure sore throat?', 'How do you treat gas problems?', 'what to do if i have Gastrointestinal problems?', 'Which medicine to take if I get gas problem?', 'How to cure Gas problems?', 'How do you treat Skin problems?', 'what to do if i get a skin allergy?', 'Which medicine to take if I get a skin allergy?', 'How to cure skin allergy?', 'How do you treat Abdonominal Pain?', 'what to do if i get a Abdonominal Pain?', 'Which medicine to take if I get a Abdonominal Pain?', 'How to cure Abdonominal Pain?', 'How do you treat Bruises?', 'what to do if i get a Bruise?', 'Which medicine to take if I get a Bruise?', 'How to cure Bruises?', 'How do you treat a Broken Toe?', 'what to do if i get a Broken Toe?', 'Which medicine to take if I get a Broken Toe?', 'How to cure Broken Toe?', 'How do you treat Choking?', 'what to do if i get a Choke?', 'Which medicine to take if I get Choked?', 'How to cure Choking?', 'How do you treat a wound?', 'what to do if i get a Wound?', 'Which medicine to take if I get wounded?', 'How to cure a wound?', 'How do you treat Diarrhea?', 'what to do if i get Diarrhea?', 'Which medicine to take if I get Diarrhea?', 'How to cure Diarrhea?', 'How do you treat a Frost bite?', 'what to do if i get a Frost bite?', 'Which medicine to take if I get a Frost bite?', 'How to cure Frost bite?', 'How do you treat Heat Exhaustion?', 'what to do if i feel Exhausted due to heat?', 'Which medicine to take if I get Exhausted?', 'How to cure Heat Exhaustion?', 'How do you treat Heat Stroke?', 'what to do if i get a Heat Stroke?', 'Which medicine to take if I get Stroke?', 'How to cure a Heat Stroke?', 'How do you treat a Insect Bite?', 'what to do if a insect bites me?', 'Which medicine to take if I get bitten by a insect?', 'How to cure insect bite?', 'How do you treat a bleeding nose?', 'what to do if i my nose is bleeding?', 'Which medicine to take if I get nose bleed?', 'How to cure nose bleeding?', 'How do you treat a Pulled Muscle?', 'what to do if my muscle is pulled?', 'Which medicine to take if I got pulled muscle?', 'How to cure a pulled muscle?', 'How do you treat Rectal Bleeding?', 'what to do if i get a Rectal Bleeding?', 'Which medicine to take if I get Rectal Bleeding?', 'How to cure Rectal Bleeding?', 'How do you treat Sun Burn?', 'what to do if i get a Sun Burn?', 'Which medicine to take if I get Sun Burn?', 'How to cure a Sun Burn?', 'How do you treat Testicle Pain?', 'what to do if i get a Testicle Pain?', 'Which medicine to take if I get a Testicle Pain?', 'How to cure Testicle Pain?', 'How do you treat a Vertigo?', 'what to do if i get a Vertigo?', 'Which medicine to take if I get Vertigo?', 'How to cure a Vertigo?', 'How do you treat bleeding?', 'what to do if i get a Bleeding?', 'Which medicine to take if I get bleeding?', 'How to cure Bleeding?', 'How do you treat an eye Injury?', 'what to do if i get a eye Injury?', 'Which medicine to take if I injured my eye?', 'How to cure injured eye?', 'How do you treat a chemical burn?', 'what to do if i get a Chemical Burn?', 'Which medicine to take if I get burn due to chemicals?', 'How to cure Chemical Burn?', 'How do you treat a Poison?', 'what to do if i get Poison?', 'Which medicine to take if I am poisoned?', 'How to cure Poisoning?', 'How do you treat broken Teeth ?', 'what to do if my Teeth got broken?', 'Which medicine to take if I get broken teeth?', 'cure broken teeth?', 'How do you treat a seizure?', 'what to do if i get a seizure?', 'Which medicine to take if I get seizure?', 'How to cure seizure?', 'How do you treat a head Injury?', 'what to do if i get a Head Injury?', 'Which medicine to take if I get injured in the head?', 'How to cure Head Injury?', 'How do you treat Faint?', 'what to do if i feel like Fainting?', 'Which medicine to take if I get a Faint?', 'How to cure Fainting?', 'How do you treat a mild Headache?', 'what to do if i get a mild Headache?', 'Which medicine to take if I have a mild headache?', 'How to cure a mild headache?', 'How do you treat a Cold?', 'what to do if i get a mild Cold?', 'Which medicine to take if I have a Cold?', 'How to cure Cold?', 'How do you treat Rashes?', 'what to do if i get a Rash?', 'Which medicine to take if I have a Rash?', 'How to cure Rash?', 'How do you treat a snake bite?', 'what to do if i get a snake bite?', 'Which medicine to take if I get a snake bite?', 'How to cure snake bite?', 'i got bit by a snake', 'How do you treat a animal bite?', 'How do you treat a monkey bite?', 'How do you treat a dog bite?', 'what to do if i get a animal bite?', 'Which medicine to take if I get a monekey bite?', 'How to cure dog bite?', 'i got bit by a dog', 'What to do if someone is Drowning?', 'what to do if someone drowned?', 'What steps to take if i see a drowning person?', 'How to help a drowning person?', 'How to give CPR??', 'what to do in a CPR?', 'What steps to take in a CPR??', 'How to help a drowning person in CPR?', 'How do you treat a Fracture?', 'what to do if i get a Fracture?', 'Which medicine to take if I have a Fracture?', 'How to cure a Fracture?']\n"
          ],
          "name": "stdout"
        }
      ]
    },
    {
      "cell_type": "code",
      "metadata": {
        "colab": {
          "base_uri": "https://localhost:8080/"
        },
        "id": "0WFfX67yt8zD",
        "outputId": "1ff56205-34ac-440c-e261-c9eda7f76957"
      },
      "source": [
        "tokenizer = Tokenizer()\n",
        "tokenizer.fit_on_texts(x)\n",
        "word_index = tokenizer.word_index\n",
        "print(word_index)\n",
        "sequences = tokenizer.texts_to_sequences(x)\n",
        "print(sequences)\n",
        "sequences = np.array(pad_sequences(sequences,padding='pre'))\n",
        "total_words = len(tokenizer.word_index) + 1"
      ],
      "execution_count": null,
      "outputs": [
        {
          "output_type": "stream",
          "text": [
            "{'to': 1, 'do': 2, 'a': 3, 'if': 4, 'how': 5, 'i': 6, 'get': 7, 'what': 8, 'you': 9, 'which': 10, 'treat': 11, 'medicine': 12, 'take': 13, 'cure': 14, 'bite': 15, 'bleeding': 16, 'apply': 17, 'have': 18, 'mild': 19, 'pain': 20, 'broken': 21, 'burn': 22, 'heat': 23, 'abrasions': 24, 'nose': 25, 'cuts': 26, 'strain': 27, 'pulled': 28, 'muscle': 29, 'cough': 30, 'injury': 31, 'snake': 32, 'sprain': 33, 'is': 34, 'fever': 35, 'nasal': 36, 'congestion': 37, 'sore': 38, 'throat': 39, 'problems': 40, 'skin': 41, 'abdonominal': 42, 'toe': 43, 'diarrhea': 44, 'frost': 45, 'stroke': 46, 'insect': 47, 'my': 48, 'got': 49, 'rectal': 50, 'sun': 51, 'testicle': 52, 'vertigo': 53, 'eye': 54, 'teeth': 55, 'seizure': 56, 'head': 57, 'in': 58, 'headache': 59, 'cold': 60, 'drowning': 61, 'cpr': 62, 'fracture': 63, 'for': 64, 'sting': 65, 'splinters': 66, 'gas': 67, 'allergy': 68, 'wound': 69, 'by': 70, 'injured': 71, 'chemical': 72, 'rash': 73, 'dog': 74, 'person': 75, 'the': 76, 'cream': 77, 'blocked': 78, 'bruises': 79, 'bruise': 80, 'choking': 81, 'exhaustion': 82, 'feel': 83, 'exhausted': 84, 'due': 85, 'poison': 86, 'faint': 87, 'fainting': 88, 'bit': 89, 'animal': 90, 'someone': 91, 'steps': 92, 'help': 93, 'on': 94, 'cause': 95, 'scars': 96, 'stings': 97, 'remove': 98, 'bring': 99, 'splinter': 100, 'surface': 101, 'diagnose': 102, 'or': 103, 'ice': 104, 'better': 105, 'long': 106, 'does': 107, 'last': 108, 'rid': 109, 'of': 110, 'gastrointestinal': 111, 'problem': 112, 'choke': 113, 'choked': 114, 'wounded': 115, 'bites': 116, 'me': 117, 'bitten': 118, 'bleed': 119, 'an': 120, 'chemicals': 121, 'am': 122, 'poisoned': 123, 'poisoning': 124, 'like': 125, 'rashes': 126, 'monkey': 127, 'monekey': 128, 'drowned': 129, 'see': 130, 'give': 131}\n",
            "[[8, 1, 2, 4, 26], [5, 1, 14, 26], [10, 12, 1, 17, 64, 26], [8, 1, 17, 94, 26], [26], [5, 2, 9, 11, 24], [2, 24, 95, 96], [24], [8, 1, 2, 4, 24], [10, 12, 1, 17, 64, 24], [5, 1, 14, 24], [5, 2, 9, 11, 65], [97], [8, 1, 2, 4, 9, 7, 3, 65], [10, 12, 1, 17, 4, 65], [5, 1, 98, 66], [5, 1, 14, 66], [8, 1, 2, 4, 6, 18, 66], [5, 2, 9, 99, 3, 100, 1, 76, 101], [5, 2, 9, 11, 3, 33], [8, 1, 2, 4, 6, 7, 3, 33], [10, 77, 1, 17, 4, 6, 7, 3, 33], [10, 12, 1, 17, 4, 6, 7, 3, 33], [5, 2, 9, 11, 3, 27], [8, 1, 2, 4, 6, 7, 3, 27], [10, 77, 1, 17, 4, 6, 7, 3, 27], [10, 12, 1, 17, 4, 6, 7, 3, 27], [5, 2, 9, 102, 3, 27], [34, 23, 103, 104, 105, 64, 3, 28, 29], [5, 2, 9, 11, 3, 19, 35], [8, 1, 2, 4, 6, 7, 3, 19, 35], [10, 12, 1, 13, 4, 6, 7, 3, 19, 35], [35], [5, 2, 9, 11, 36, 37], [8, 1, 2, 4, 6, 7, 3, 36, 37], [10, 12, 1, 13, 4, 6, 18, 3, 36, 37], [8, 1, 2, 4, 6, 18, 3, 78, 25], [5, 2, 9, 11, 3, 78, 25], [5, 106, 107, 36, 37, 108], [5, 1, 14, 30], [5, 2, 9, 11, 30], [8, 1, 2, 4, 6, 7, 3, 30], [10, 12, 1, 13, 4, 6, 7, 30], [5, 2, 9, 7, 109, 110, 30], [5, 2, 9, 11, 38, 39], [8, 1, 2, 4, 6, 7, 3, 38, 39], [10, 12, 1, 13, 4, 6, 7, 3, 38, 39], [5, 1, 14, 38, 39], [5, 2, 9, 11, 67, 40], [8, 1, 2, 4, 6, 18, 111, 40], [10, 12, 1, 13, 4, 6, 7, 67, 112], [5, 1, 14, 67, 40], [5, 2, 9, 11, 41, 40], [8, 1, 2, 4, 6, 7, 3, 41, 68], [10, 12, 1, 13, 4, 6, 7, 3, 41, 68], [5, 1, 14, 41, 68], [5, 2, 9, 11, 42, 20], [8, 1, 2, 4, 6, 7, 3, 42, 20], [10, 12, 1, 13, 4, 6, 7, 3, 42, 20], [5, 1, 14, 42, 20], [5, 2, 9, 11, 79], [8, 1, 2, 4, 6, 7, 3, 80], [10, 12, 1, 13, 4, 6, 7, 3, 80], [5, 1, 14, 79], [5, 2, 9, 11, 3, 21, 43], [8, 1, 2, 4, 6, 7, 3, 21, 43], [10, 12, 1, 13, 4, 6, 7, 3, 21, 43], [5, 1, 14, 21, 43], [5, 2, 9, 11, 81], [8, 1, 2, 4, 6, 7, 3, 113], [10, 12, 1, 13, 4, 6, 7, 114], [5, 1, 14, 81], [5, 2, 9, 11, 3, 69], [8, 1, 2, 4, 6, 7, 3, 69], [10, 12, 1, 13, 4, 6, 7, 115], [5, 1, 14, 3, 69], [5, 2, 9, 11, 44], [8, 1, 2, 4, 6, 7, 44], [10, 12, 1, 13, 4, 6, 7, 44], [5, 1, 14, 44], [5, 2, 9, 11, 3, 45, 15], [8, 1, 2, 4, 6, 7, 3, 45, 15], [10, 12, 1, 13, 4, 6, 7, 3, 45, 15], [5, 1, 14, 45, 15], [5, 2, 9, 11, 23, 82], [8, 1, 2, 4, 6, 83, 84, 85, 1, 23], [10, 12, 1, 13, 4, 6, 7, 84], [5, 1, 14, 23, 82], [5, 2, 9, 11, 23, 46], [8, 1, 2, 4, 6, 7, 3, 23, 46], [10, 12, 1, 13, 4, 6, 7, 46], [5, 1, 14, 3, 23, 46], [5, 2, 9, 11, 3, 47, 15], [8, 1, 2, 4, 3, 47, 116, 117], [10, 12, 1, 13, 4, 6, 7, 118, 70, 3, 47], [5, 1, 14, 47, 15], [5, 2, 9, 11, 3, 16, 25], [8, 1, 2, 4, 6, 48, 25, 34, 16], [10, 12, 1, 13, 4, 6, 7, 25, 119], [5, 1, 14, 25, 16], [5, 2, 9, 11, 3, 28, 29], [8, 1, 2, 4, 48, 29, 34, 28], [10, 12, 1, 13, 4, 6, 49, 28, 29], [5, 1, 14, 3, 28, 29], [5, 2, 9, 11, 50, 16], [8, 1, 2, 4, 6, 7, 3, 50, 16], [10, 12, 1, 13, 4, 6, 7, 50, 16], [5, 1, 14, 50, 16], [5, 2, 9, 11, 51, 22], [8, 1, 2, 4, 6, 7, 3, 51, 22], [10, 12, 1, 13, 4, 6, 7, 51, 22], [5, 1, 14, 3, 51, 22], [5, 2, 9, 11, 52, 20], [8, 1, 2, 4, 6, 7, 3, 52, 20], [10, 12, 1, 13, 4, 6, 7, 3, 52, 20], [5, 1, 14, 52, 20], [5, 2, 9, 11, 3, 53], [8, 1, 2, 4, 6, 7, 3, 53], [10, 12, 1, 13, 4, 6, 7, 53], [5, 1, 14, 3, 53], [5, 2, 9, 11, 16], [8, 1, 2, 4, 6, 7, 3, 16], [10, 12, 1, 13, 4, 6, 7, 16], [5, 1, 14, 16], [5, 2, 9, 11, 120, 54, 31], [8, 1, 2, 4, 6, 7, 3, 54, 31], [10, 12, 1, 13, 4, 6, 71, 48, 54], [5, 1, 14, 71, 54], [5, 2, 9, 11, 3, 72, 22], [8, 1, 2, 4, 6, 7, 3, 72, 22], [10, 12, 1, 13, 4, 6, 7, 22, 85, 1, 121], [5, 1, 14, 72, 22], [5, 2, 9, 11, 3, 86], [8, 1, 2, 4, 6, 7, 86], [10, 12, 1, 13, 4, 6, 122, 123], [5, 1, 14, 124], [5, 2, 9, 11, 21, 55], [8, 1, 2, 4, 48, 55, 49, 21], [10, 12, 1, 13, 4, 6, 7, 21, 55], [14, 21, 55], [5, 2, 9, 11, 3, 56], [8, 1, 2, 4, 6, 7, 3, 56], [10, 12, 1, 13, 4, 6, 7, 56], [5, 1, 14, 56], [5, 2, 9, 11, 3, 57, 31], [8, 1, 2, 4, 6, 7, 3, 57, 31], [10, 12, 1, 13, 4, 6, 7, 71, 58, 76, 57], [5, 1, 14, 57, 31], [5, 2, 9, 11, 87], [8, 1, 2, 4, 6, 83, 125, 88], [10, 12, 1, 13, 4, 6, 7, 3, 87], [5, 1, 14, 88], [5, 2, 9, 11, 3, 19, 59], [8, 1, 2, 4, 6, 7, 3, 19, 59], [10, 12, 1, 13, 4, 6, 18, 3, 19, 59], [5, 1, 14, 3, 19, 59], [5, 2, 9, 11, 3, 60], [8, 1, 2, 4, 6, 7, 3, 19, 60], [10, 12, 1, 13, 4, 6, 18, 3, 60], [5, 1, 14, 60], [5, 2, 9, 11, 126], [8, 1, 2, 4, 6, 7, 3, 73], [10, 12, 1, 13, 4, 6, 18, 3, 73], [5, 1, 14, 73], [5, 2, 9, 11, 3, 32, 15], [8, 1, 2, 4, 6, 7, 3, 32, 15], [10, 12, 1, 13, 4, 6, 7, 3, 32, 15], [5, 1, 14, 32, 15], [6, 49, 89, 70, 3, 32], [5, 2, 9, 11, 3, 90, 15], [5, 2, 9, 11, 3, 127, 15], [5, 2, 9, 11, 3, 74, 15], [8, 1, 2, 4, 6, 7, 3, 90, 15], [10, 12, 1, 13, 4, 6, 7, 3, 128, 15], [5, 1, 14, 74, 15], [6, 49, 89, 70, 3, 74], [8, 1, 2, 4, 91, 34, 61], [8, 1, 2, 4, 91, 129], [8, 92, 1, 13, 4, 6, 130, 3, 61, 75], [5, 1, 93, 3, 61, 75], [5, 1, 131, 62], [8, 1, 2, 58, 3, 62], [8, 92, 1, 13, 58, 3, 62], [5, 1, 93, 3, 61, 75, 58, 62], [5, 2, 9, 11, 3, 63], [8, 1, 2, 4, 6, 7, 3, 63], [10, 12, 1, 13, 4, 6, 18, 3, 63], [5, 1, 14, 3, 63]]\n"
          ],
          "name": "stdout"
        }
      ]
    },
    {
      "cell_type": "code",
      "metadata": {
        "colab": {
          "base_uri": "https://localhost:8080/"
        },
        "id": "m1FL-CqTtcC0",
        "outputId": "1f9939a8-398f-4086-d4f9-cd4d56900024"
      },
      "source": [
        "y = sequences[:,-1]\n",
        "\n",
        "print(sequences[1])\n",
        "print(y)\n",
        "k = len(y)\n",
        "y = ku.to_categorical(y, num_classes = k)\n"
      ],
      "execution_count": null,
      "outputs": [
        {
          "output_type": "stream",
          "text": [
            "[ 0  0  0  0  0  0  0  5  1 14 26]\n",
            "[ 26  26  26  26  26  24  96  24  24  24  24  65  97  65  65  66  66  66\n",
            " 101  33  33  33  33  27  27  27  27  27  29  35  35  35  35  37  37  37\n",
            "  25  25 108  30  30  30  30  30  39  39  39  39  40  40 112  40  40  68\n",
            "  68  68  20  20  20  20  79  80  80  79  43  43  43  43  81 113 114  81\n",
            "  69  69 115  69  44  44  44  44  15  15  15  15  82  23  84  82  46  46\n",
            "  46  46  15 117  47  15  25  16 119  16  29  28  29  29  16  16  16  16\n",
            "  22  22  22  22  20  20  20  20  53  53  53  53  16  16  16  16  31  31\n",
            "  54  54  22  22 121  22  86  86 123 124  55  21  55  55  56  56  56  56\n",
            "  31  31  57  31  87  88  87  88  59  59  59  59  60  60  60  60 126  73\n",
            "  73  73  15  15  15  15  32  15  15  15  15  15  15  74  61 129  75  75\n",
            "  62  62  62  62  63  63  63  63]\n"
          ],
          "name": "stdout"
        }
      ]
    },
    {
      "cell_type": "code",
      "metadata": {
        "colab": {
          "base_uri": "https://localhost:8080/"
        },
        "id": "gYfPCzdz29Mj",
        "outputId": "9dabbaf8-1ddd-4eba-e0ea-34a5fb4c03e3"
      },
      "source": [
        "print(sequences[7])\n",
        "y[0]"
      ],
      "execution_count": null,
      "outputs": [
        {
          "output_type": "stream",
          "text": [
            "[ 0  0  0  0  0  0  0  0  0  0 24]\n"
          ],
          "name": "stdout"
        },
        {
          "output_type": "execute_result",
          "data": {
            "text/plain": [
              "array([0., 0., 0., 0., 0., 0., 0., 0., 0., 0., 0., 0., 0., 0., 0., 0., 0.,\n",
              "       0., 0., 0., 0., 0., 0., 0., 0., 0., 1., 0., 0., 0., 0., 0., 0., 0.,\n",
              "       0., 0., 0., 0., 0., 0., 0., 0., 0., 0., 0., 0., 0., 0., 0., 0., 0.,\n",
              "       0., 0., 0., 0., 0., 0., 0., 0., 0., 0., 0., 0., 0., 0., 0., 0., 0.,\n",
              "       0., 0., 0., 0., 0., 0., 0., 0., 0., 0., 0., 0., 0., 0., 0., 0., 0.,\n",
              "       0., 0., 0., 0., 0., 0., 0., 0., 0., 0., 0., 0., 0., 0., 0., 0., 0.,\n",
              "       0., 0., 0., 0., 0., 0., 0., 0., 0., 0., 0., 0., 0., 0., 0., 0., 0.,\n",
              "       0., 0., 0., 0., 0., 0., 0., 0., 0., 0., 0., 0., 0., 0., 0., 0., 0.,\n",
              "       0., 0., 0., 0., 0., 0., 0., 0., 0., 0., 0., 0., 0., 0., 0., 0., 0.,\n",
              "       0., 0., 0., 0., 0., 0., 0., 0., 0., 0., 0., 0., 0., 0., 0., 0., 0.,\n",
              "       0., 0., 0., 0., 0., 0., 0., 0., 0., 0., 0., 0., 0., 0., 0., 0., 0.,\n",
              "       0.], dtype=float32)"
            ]
          },
          "metadata": {
            "tags": []
          },
          "execution_count": 8
        }
      ]
    },
    {
      "cell_type": "code",
      "metadata": {
        "colab": {
          "base_uri": "https://localhost:8080/"
        },
        "id": "_oFkEICv0x2t",
        "outputId": "1a1b4d27-33e2-4a76-e42a-44b5be8521c5"
      },
      "source": [
        "model = Sequential()\n",
        "model.add(Embedding(total_words, 100))\n",
        "model.add(Bidirectional(LSTM(150, return_sequences=True)))\n",
        "model.add(Dropout(0.25))\n",
        "model.add(LSTM(150))\n",
        "model.add(Dense(total_words/2, activation='relu'))\n",
        "model.add(Dense(k, activation='softmax'))\n",
        "model.compile(loss = 'categorical_crossentropy', optimizer = 'adam', metrics = ['accuracy'])\n",
        "model.summary()"
      ],
      "execution_count": null,
      "outputs": [
        {
          "output_type": "stream",
          "text": [
            "Model: \"sequential\"\n",
            "_________________________________________________________________\n",
            "Layer (type)                 Output Shape              Param #   \n",
            "=================================================================\n",
            "embedding (Embedding)        (None, None, 100)         13200     \n",
            "_________________________________________________________________\n",
            "bidirectional (Bidirectional (None, None, 300)         301200    \n",
            "_________________________________________________________________\n",
            "dropout (Dropout)            (None, None, 300)         0         \n",
            "_________________________________________________________________\n",
            "lstm_1 (LSTM)                (None, 150)               270600    \n",
            "_________________________________________________________________\n",
            "dense (Dense)                (None, 66)                9966      \n",
            "_________________________________________________________________\n",
            "dense_1 (Dense)              (None, 188)               12596     \n",
            "=================================================================\n",
            "Total params: 607,562\n",
            "Trainable params: 607,562\n",
            "Non-trainable params: 0\n",
            "_________________________________________________________________\n"
          ],
          "name": "stdout"
        }
      ]
    },
    {
      "cell_type": "code",
      "metadata": {
        "colab": {
          "base_uri": "https://localhost:8080/"
        },
        "id": "qG8us6ZP4gQB",
        "outputId": "c22cba5a-877b-4587-88c8-ab5384765ad7"
      },
      "source": [
        "history = model.fit(sequences, y,epochs = 100, verbose = 1)"
      ],
      "execution_count": null,
      "outputs": [
        {
          "output_type": "stream",
          "text": [
            "Epoch 1/100\n",
            "6/6 [==============================] - 10s 10ms/step - loss: 5.2279 - accuracy: 0.0585\n",
            "Epoch 2/100\n",
            "6/6 [==============================] - 0s 8ms/step - loss: 5.1250 - accuracy: 0.0851\n",
            "Epoch 3/100\n",
            "6/6 [==============================] - 0s 8ms/step - loss: 4.6549 - accuracy: 0.0851\n",
            "Epoch 4/100\n",
            "6/6 [==============================] - 0s 9ms/step - loss: 4.4098 - accuracy: 0.0745\n",
            "Epoch 5/100\n",
            "6/6 [==============================] - 0s 8ms/step - loss: 4.2280 - accuracy: 0.0479\n",
            "Epoch 6/100\n",
            "6/6 [==============================] - 0s 8ms/step - loss: 4.0880 - accuracy: 0.0851\n",
            "Epoch 7/100\n",
            "6/6 [==============================] - 0s 9ms/step - loss: 4.0203 - accuracy: 0.0851\n",
            "Epoch 8/100\n",
            "6/6 [==============================] - 0s 8ms/step - loss: 3.9664 - accuracy: 0.0851\n",
            "Epoch 9/100\n",
            "6/6 [==============================] - 0s 8ms/step - loss: 3.9067 - accuracy: 0.0851\n",
            "Epoch 10/100\n",
            "6/6 [==============================] - 0s 8ms/step - loss: 3.8106 - accuracy: 0.0851\n",
            "Epoch 11/100\n",
            "6/6 [==============================] - 0s 8ms/step - loss: 3.6770 - accuracy: 0.1223\n",
            "Epoch 12/100\n",
            "6/6 [==============================] - 0s 8ms/step - loss: 3.5509 - accuracy: 0.1223\n",
            "Epoch 13/100\n",
            "6/6 [==============================] - 0s 9ms/step - loss: 3.4447 - accuracy: 0.1223\n",
            "Epoch 14/100\n",
            "6/6 [==============================] - 0s 9ms/step - loss: 3.3320 - accuracy: 0.1383\n",
            "Epoch 15/100\n",
            "6/6 [==============================] - 0s 9ms/step - loss: 3.2344 - accuracy: 0.1330\n",
            "Epoch 16/100\n",
            "6/6 [==============================] - 0s 8ms/step - loss: 3.1246 - accuracy: 0.1649\n",
            "Epoch 17/100\n",
            "6/6 [==============================] - 0s 9ms/step - loss: 3.0499 - accuracy: 0.1755\n",
            "Epoch 18/100\n",
            "6/6 [==============================] - 0s 9ms/step - loss: 2.9360 - accuracy: 0.1968\n",
            "Epoch 19/100\n",
            "6/6 [==============================] - 0s 8ms/step - loss: 2.8444 - accuracy: 0.2234\n",
            "Epoch 20/100\n",
            "6/6 [==============================] - 0s 9ms/step - loss: 2.7464 - accuracy: 0.2128\n",
            "Epoch 21/100\n",
            "6/6 [==============================] - 0s 9ms/step - loss: 2.6733 - accuracy: 0.2447\n",
            "Epoch 22/100\n",
            "6/6 [==============================] - 0s 9ms/step - loss: 2.5779 - accuracy: 0.2872\n",
            "Epoch 23/100\n",
            "6/6 [==============================] - 0s 8ms/step - loss: 2.4564 - accuracy: 0.2979\n",
            "Epoch 24/100\n",
            "6/6 [==============================] - 0s 9ms/step - loss: 2.3653 - accuracy: 0.3723\n",
            "Epoch 25/100\n",
            "6/6 [==============================] - 0s 9ms/step - loss: 2.2415 - accuracy: 0.3989\n",
            "Epoch 26/100\n",
            "6/6 [==============================] - 0s 8ms/step - loss: 2.1618 - accuracy: 0.4255\n",
            "Epoch 27/100\n",
            "6/6 [==============================] - 0s 8ms/step - loss: 2.1005 - accuracy: 0.4096\n",
            "Epoch 28/100\n",
            "6/6 [==============================] - 0s 8ms/step - loss: 2.0672 - accuracy: 0.4202\n",
            "Epoch 29/100\n",
            "6/6 [==============================] - 0s 8ms/step - loss: 1.9621 - accuracy: 0.4681\n",
            "Epoch 30/100\n",
            "6/6 [==============================] - 0s 8ms/step - loss: 1.8468 - accuracy: 0.5106\n",
            "Epoch 31/100\n",
            "6/6 [==============================] - 0s 8ms/step - loss: 1.7899 - accuracy: 0.5266\n",
            "Epoch 32/100\n",
            "6/6 [==============================] - 0s 9ms/step - loss: 1.6666 - accuracy: 0.5479\n",
            "Epoch 33/100\n",
            "6/6 [==============================] - 0s 9ms/step - loss: 1.6068 - accuracy: 0.5691\n",
            "Epoch 34/100\n",
            "6/6 [==============================] - 0s 8ms/step - loss: 1.5215 - accuracy: 0.5851\n",
            "Epoch 35/100\n",
            "6/6 [==============================] - 0s 10ms/step - loss: 1.4388 - accuracy: 0.5904\n",
            "Epoch 36/100\n",
            "6/6 [==============================] - 0s 9ms/step - loss: 1.3520 - accuracy: 0.6330\n",
            "Epoch 37/100\n",
            "6/6 [==============================] - 0s 9ms/step - loss: 1.2801 - accuracy: 0.6596\n",
            "Epoch 38/100\n",
            "6/6 [==============================] - 0s 10ms/step - loss: 1.2441 - accuracy: 0.7234\n",
            "Epoch 39/100\n",
            "6/6 [==============================] - 0s 9ms/step - loss: 1.2019 - accuracy: 0.7074\n",
            "Epoch 40/100\n",
            "6/6 [==============================] - 0s 9ms/step - loss: 1.1499 - accuracy: 0.6755\n",
            "Epoch 41/100\n",
            "6/6 [==============================] - 0s 8ms/step - loss: 1.0753 - accuracy: 0.7394\n",
            "Epoch 42/100\n",
            "6/6 [==============================] - 0s 9ms/step - loss: 1.0339 - accuracy: 0.7287\n",
            "Epoch 43/100\n",
            "6/6 [==============================] - 0s 9ms/step - loss: 0.9921 - accuracy: 0.7553\n",
            "Epoch 44/100\n",
            "6/6 [==============================] - 0s 9ms/step - loss: 0.9385 - accuracy: 0.7660\n",
            "Epoch 45/100\n",
            "6/6 [==============================] - 0s 9ms/step - loss: 0.8999 - accuracy: 0.7606\n",
            "Epoch 46/100\n",
            "6/6 [==============================] - 0s 9ms/step - loss: 0.8728 - accuracy: 0.7819\n",
            "Epoch 47/100\n",
            "6/6 [==============================] - 0s 9ms/step - loss: 0.8603 - accuracy: 0.7979\n",
            "Epoch 48/100\n",
            "6/6 [==============================] - 0s 9ms/step - loss: 0.8805 - accuracy: 0.7606\n",
            "Epoch 49/100\n",
            "6/6 [==============================] - 0s 9ms/step - loss: 0.8279 - accuracy: 0.7819\n",
            "Epoch 50/100\n",
            "6/6 [==============================] - 0s 9ms/step - loss: 0.7899 - accuracy: 0.7872\n",
            "Epoch 51/100\n",
            "6/6 [==============================] - 0s 9ms/step - loss: 0.7806 - accuracy: 0.8085\n",
            "Epoch 52/100\n",
            "6/6 [==============================] - 0s 9ms/step - loss: 0.7770 - accuracy: 0.8138\n",
            "Epoch 53/100\n",
            "6/6 [==============================] - 0s 9ms/step - loss: 0.7019 - accuracy: 0.8298\n",
            "Epoch 54/100\n",
            "6/6 [==============================] - 0s 9ms/step - loss: 0.6710 - accuracy: 0.8191\n",
            "Epoch 55/100\n",
            "6/6 [==============================] - 0s 10ms/step - loss: 0.6200 - accuracy: 0.8617\n",
            "Epoch 56/100\n",
            "6/6 [==============================] - 0s 11ms/step - loss: 0.5754 - accuracy: 0.8989\n",
            "Epoch 57/100\n",
            "6/6 [==============================] - 0s 9ms/step - loss: 0.5318 - accuracy: 0.8830\n",
            "Epoch 58/100\n",
            "6/6 [==============================] - 0s 9ms/step - loss: 0.4977 - accuracy: 0.9043\n",
            "Epoch 59/100\n",
            "6/6 [==============================] - 0s 9ms/step - loss: 0.4588 - accuracy: 0.8830\n",
            "Epoch 60/100\n",
            "6/6 [==============================] - 0s 11ms/step - loss: 0.4367 - accuracy: 0.9043\n",
            "Epoch 61/100\n",
            "6/6 [==============================] - 0s 8ms/step - loss: 0.4078 - accuracy: 0.9202\n",
            "Epoch 62/100\n",
            "6/6 [==============================] - 0s 8ms/step - loss: 0.3854 - accuracy: 0.9309\n",
            "Epoch 63/100\n",
            "6/6 [==============================] - 0s 10ms/step - loss: 0.3600 - accuracy: 0.9309\n",
            "Epoch 64/100\n",
            "6/6 [==============================] - 0s 9ms/step - loss: 0.3408 - accuracy: 0.9255\n",
            "Epoch 65/100\n",
            "6/6 [==============================] - 0s 8ms/step - loss: 0.3162 - accuracy: 0.9468\n",
            "Epoch 66/100\n",
            "6/6 [==============================] - 0s 10ms/step - loss: 0.3043 - accuracy: 0.9468\n",
            "Epoch 67/100\n",
            "6/6 [==============================] - 0s 8ms/step - loss: 0.2887 - accuracy: 0.9521\n",
            "Epoch 68/100\n",
            "6/6 [==============================] - 0s 8ms/step - loss: 0.2939 - accuracy: 0.9468\n",
            "Epoch 69/100\n",
            "6/6 [==============================] - 0s 9ms/step - loss: 0.2804 - accuracy: 0.9628\n",
            "Epoch 70/100\n",
            "6/6 [==============================] - 0s 9ms/step - loss: 0.2684 - accuracy: 0.9628\n",
            "Epoch 71/100\n",
            "6/6 [==============================] - 0s 9ms/step - loss: 0.2541 - accuracy: 0.9628\n",
            "Epoch 72/100\n",
            "6/6 [==============================] - 0s 9ms/step - loss: 0.2524 - accuracy: 0.9734\n",
            "Epoch 73/100\n",
            "6/6 [==============================] - 0s 9ms/step - loss: 0.2372 - accuracy: 0.9681\n",
            "Epoch 74/100\n",
            "6/6 [==============================] - 0s 11ms/step - loss: 0.2586 - accuracy: 0.9574\n",
            "Epoch 75/100\n",
            "6/6 [==============================] - 0s 11ms/step - loss: 0.2525 - accuracy: 0.9681\n",
            "Epoch 76/100\n",
            "6/6 [==============================] - 0s 10ms/step - loss: 0.2570 - accuracy: 0.9521\n",
            "Epoch 77/100\n",
            "6/6 [==============================] - 0s 9ms/step - loss: 0.2782 - accuracy: 0.9255\n",
            "Epoch 78/100\n",
            "6/6 [==============================] - 0s 8ms/step - loss: 0.2085 - accuracy: 0.9734\n",
            "Epoch 79/100\n",
            "6/6 [==============================] - 0s 8ms/step - loss: 0.2182 - accuracy: 0.9574\n",
            "Epoch 80/100\n",
            "6/6 [==============================] - 0s 8ms/step - loss: 0.2362 - accuracy: 0.9681\n",
            "Epoch 81/100\n",
            "6/6 [==============================] - 0s 9ms/step - loss: 0.2161 - accuracy: 0.9681\n",
            "Epoch 82/100\n",
            "6/6 [==============================] - 0s 9ms/step - loss: 0.1890 - accuracy: 0.9787\n",
            "Epoch 83/100\n",
            "6/6 [==============================] - 0s 10ms/step - loss: 0.1586 - accuracy: 0.9840\n",
            "Epoch 84/100\n",
            "6/6 [==============================] - 0s 10ms/step - loss: 0.1397 - accuracy: 0.9947\n",
            "Epoch 85/100\n",
            "6/6 [==============================] - 0s 9ms/step - loss: 0.1230 - accuracy: 0.9947\n",
            "Epoch 86/100\n",
            "6/6 [==============================] - 0s 9ms/step - loss: 0.1149 - accuracy: 0.9947\n",
            "Epoch 87/100\n",
            "6/6 [==============================] - 0s 10ms/step - loss: 0.1025 - accuracy: 0.9947\n",
            "Epoch 88/100\n",
            "6/6 [==============================] - 0s 9ms/step - loss: 0.0999 - accuracy: 0.9947\n",
            "Epoch 89/100\n",
            "6/6 [==============================] - 0s 9ms/step - loss: 0.0950 - accuracy: 0.9947\n",
            "Epoch 90/100\n",
            "6/6 [==============================] - 0s 9ms/step - loss: 0.0923 - accuracy: 0.9947\n",
            "Epoch 91/100\n",
            "6/6 [==============================] - 0s 8ms/step - loss: 0.0835 - accuracy: 0.9947\n",
            "Epoch 92/100\n",
            "6/6 [==============================] - 0s 9ms/step - loss: 0.0803 - accuracy: 0.9947\n",
            "Epoch 93/100\n",
            "6/6 [==============================] - 0s 10ms/step - loss: 0.0765 - accuracy: 0.9947\n",
            "Epoch 94/100\n",
            "6/6 [==============================] - 0s 9ms/step - loss: 0.0709 - accuracy: 0.9947\n",
            "Epoch 95/100\n",
            "6/6 [==============================] - 0s 8ms/step - loss: 0.0647 - accuracy: 1.0000\n",
            "Epoch 96/100\n",
            "6/6 [==============================] - 0s 9ms/step - loss: 0.0608 - accuracy: 0.9947\n",
            "Epoch 97/100\n",
            "6/6 [==============================] - 0s 9ms/step - loss: 0.0590 - accuracy: 1.0000\n",
            "Epoch 98/100\n",
            "6/6 [==============================] - 0s 9ms/step - loss: 0.0552 - accuracy: 1.0000\n",
            "Epoch 99/100\n",
            "6/6 [==============================] - 0s 12ms/step - loss: 0.0566 - accuracy: 0.9947\n",
            "Epoch 100/100\n",
            "6/6 [==============================] - 0s 9ms/step - loss: 0.0515 - accuracy: 0.9947\n"
          ],
          "name": "stdout"
        }
      ]
    },
    {
      "cell_type": "code",
      "metadata": {
        "colab": {
          "base_uri": "https://localhost:8080/"
        },
        "id": "tZnIVRSC3qQO",
        "outputId": "3fb1a691-85f5-4f50-800c-0d763dc65169"
      },
      "source": [
        "seed = 'How to cure cuts?'\n",
        "next_word = 1\n",
        "\n",
        "for _ in range(next_word):\n",
        "\ttoken_list = tokenizer.texts_to_sequences([seed])[0]\n",
        "\ttoken_list = pad_sequences([token_list], padding='pre')\n",
        "\tpredicted = model.predict_classes(token_list, verbose=0)\n",
        "\toutput_word = \"\"\n",
        "for word, index in tokenizer.word_index.items():\n",
        "\t\tif index == predicted:\n",
        "\t\t\toutput_word = word\n",
        "output_word = stemmer.stem(output_word)\n",
        "for label in labels_lower:\n",
        "  if output_word == label:\n",
        "    a = labels_lower.index(label)\n",
        "    break\n",
        "\t\n",
        "print(output_word)\n",
        "print(a)"
      ],
      "execution_count": null,
      "outputs": [
        {
          "output_type": "stream",
          "text": [
            "cut\n",
            "0\n"
          ],
          "name": "stdout"
        },
        {
          "output_type": "stream",
          "text": [
            "/usr/local/lib/python3.7/dist-packages/tensorflow/python/keras/engine/sequential.py:455: UserWarning: `model.predict_classes()` is deprecated and will be removed after 2021-01-01. Please use instead:* `np.argmax(model.predict(x), axis=-1)`,   if your model does multi-class classification   (e.g. if it uses a `softmax` last-layer activation).* `(model.predict(x) > 0.5).astype(\"int32\")`,   if your model does binary classification   (e.g. if it uses a `sigmoid` last-layer activation).\n",
            "  warnings.warn('`model.predict_classes()` is deprecated and '\n"
          ],
          "name": "stderr"
        }
      ]
    },
    {
      "cell_type": "code",
      "metadata": {
        "colab": {
          "base_uri": "https://localhost:8080/"
        },
        "id": "eJONp27tBJ5M",
        "outputId": "8dacf706-0191-4302-d592-f907a29727d7"
      },
      "source": [
        "labels_lower = [stemmer.stem(each_string.lower()) for each_string in labels]\n",
        "print(labels_lower)\n",
        "print(labels)"
      ],
      "execution_count": null,
      "outputs": [
        {
          "output_type": "stream",
          "text": [
            "['cut', 'abras', 'sting', 'splinter', 'sprain', 'strain', 'fever', 'nasal congest', 'cough', 'sore throat', 'gastrointestinal problem', 'skin problem', 'abdonominal pain', 'bruis', 'broken to', 'choke', 'wound', 'diarrhea', 'frost bit', 'heat exhaust', 'heat strok', 'insect bit', 'nose ble', 'pulled muscl', 'rectal bleed', 'sun burn', 'testicle pain', 'vertigo', 'normal bleed', 'eye injuri', 'chemical burn', 'poison', 'teeth', 'seizur', 'head injuri', 'faint', 'headach', 'cold', 'rash', 'snake bit', 'animal bit', 'drown', 'cpr', 'fractur']\n",
            "['Cuts', 'Abrasions', 'stings', 'Splinter', 'Sprains', 'Strains', 'Fever', 'Nasal Congestion', 'Cough', 'Sore Throat', 'Gastrointestinal problems', 'Skin problems', 'Abdonominal Pain', 'Bruises', 'Broken Toe', 'Choking', 'Wound', 'Diarrhea', 'Frost bite', 'Heat Exhaustion', 'Heat Stroke', 'Insect Bites', 'nose bleed', 'Pulled Muscle', 'Rectal bleeding', 'Sun Burn', 'Testicle Pain', 'Vertigo', 'Normal Bleeding', 'Eye Injury', 'Chemical Burn', 'Poison', 'Teeth', 'seizure', 'Head Injury', 'Fainting', 'Headache', 'Cold', 'Rash', 'snake bite', 'animal bite', 'Drowning', 'CPR', 'Fracture']\n"
          ],
          "name": "stdout"
        }
      ]
    },
    {
      "cell_type": "code",
      "metadata": {
        "colab": {
          "base_uri": "https://localhost:8080/"
        },
        "id": "U2J2feom_X7l",
        "outputId": "c259c85e-1ad0-4aac-e480-0a13e8349051"
      },
      "source": [
        "for label in labels_lower:\n",
        "  if output_word == label:\n",
        "    a = labels_lower.index(label)\n",
        "\n",
        "print(a)"
      ],
      "execution_count": null,
      "outputs": [
        {
          "output_type": "stream",
          "text": [
            "6\n"
          ],
          "name": "stdout"
        }
      ]
    },
    {
      "cell_type": "code",
      "metadata": {
        "colab": {
          "base_uri": "https://localhost:8080/"
        },
        "id": "fQYE_L4KCOG8",
        "outputId": "0db9a7ad-7fb2-4d2d-9b0f-254b26212886"
      },
      "source": [
        "responses = []\n",
        "for intent in data['intents']:\n",
        "  for response in intent['responses']:\n",
        "    responses.append(response)\n",
        "\n",
        "print(responses[a])"
      ],
      "execution_count": null,
      "outputs": [
        {
          "output_type": "stream",
          "text": [
            "1)Stop any bleeding. Apply pressure to the wound with a sterile bandage, a clean cloth or a clean piece of clothing. 2)Immobilize the injured area. Don't try to realign the bone or push a bone that's sticking out back in. If you've been trained in how to splint and professional help isn't readily available, apply a splint to the area above and below the fracture sites. Padding the splints can help reduce discomfort. 3)Apply ice packs to limit swelling and help relieve pain. Don't apply ice directly to the skin. Wrap the ice in a towel, piece of cloth or some other material. 4)Treat for shock. If the person feels faint or is breathing in short, rapid breaths, lay the person down with the head slightly lower than the trunk and, if possible, elevate the legs.\n"
          ],
          "name": "stdout"
        }
      ]
    },
    {
      "cell_type": "code",
      "metadata": {
        "id": "FtU4yeHavNVJ"
      },
      "source": [
        "def chat():\n",
        "  print('Start talking with the bot type quit to stop')\n",
        "  while True:\n",
        "    inp = input(\"You : \")\n",
        "    if inp.lower() == 'quit':\n",
        "      break\n",
        "\n",
        "    next_word = 1\n",
        "\n",
        "    for _ in range (next_word):\n",
        "      token_list = tokenizer.texts_to_sequences([inp])[0]\n",
        "      token_list = pad_sequences([token_list], padding='pre')\n",
        "      predicted = model.predict_classes(token_list, verbose=0)\n",
        "      output_word = \"\"\n",
        "    for word, index in tokenizer.word_index.items():\n",
        "      if index == predicted:\n",
        "        output_word = word\n",
        "    output_word = stemmer.stem(output_word)\n",
        "    for label in labels_lower:\n",
        "      if output_word == label:\n",
        "        a = labels_lower.index(label)\n",
        "        break\n",
        "    print(responses[a])"
      ],
      "execution_count": null,
      "outputs": []
    },
    {
      "cell_type": "code",
      "metadata": {
        "colab": {
          "base_uri": "https://localhost:8080/"
        },
        "id": "J9VW2Ga2xu1Z",
        "outputId": "d230a9c7-6c83-4238-df75-c4fe9b58d43f"
      },
      "source": [
        "chat()"
      ],
      "execution_count": null,
      "outputs": [
        {
          "output_type": "stream",
          "text": [
            "Start talking with the bot type quit to stop\n",
            "You : How to cure cuts\n"
          ],
          "name": "stdout"
        },
        {
          "output_type": "stream",
          "text": [
            "/usr/local/lib/python3.7/dist-packages/tensorflow/python/keras/engine/sequential.py:455: UserWarning: `model.predict_classes()` is deprecated and will be removed after 2021-01-01. Please use instead:* `np.argmax(model.predict(x), axis=-1)`,   if your model does multi-class classification   (e.g. if it uses a `softmax` last-layer activation).* `(model.predict(x) > 0.5).astype(\"int32\")`,   if your model does binary classification   (e.g. if it uses a `sigmoid` last-layer activation).\n",
            "  warnings.warn('`model.predict_classes()` is deprecated and '\n"
          ],
          "name": "stderr"
        },
        {
          "output_type": "stream",
          "text": [
            "Wash the cut properly to prevent infection and stop the bleeding by applying pressure for 1-2minutes until bleeding stops. Apply Petroleum Jelly to make sure that the wound is moist for quick healing. Finally cover the cut with a sterile bandage. Pain relievers such as acetaminophen can be applied.\n",
            "You : how to treat a rash\n",
            "1)Olive oil helps in healing and promotes skin renewal given it is packed with vitamin E and antioxidants. It also soothes the skin and reduces itching. 2)Baking soda is useful in drying skin rashes as also in relieving itching and inflammation. 3)Aloe Vera,Thanks to its antibacterial, antifungal, anti-inflammatory and emollient properties, aloe vera is excellent for treating a number of skin ailments including rashes as also soothing the skin.\n",
            "You : how to treat a mild headache\n",
            "Give ibuprofen (Advil, Motrin), aspirin, or acetaminophen (Tylenol) for pain. Avoid ibuprofen and other NSAIDs if the person has heart failure or kidney failure. Do not give aspirin to a child under age 18.\n",
            "You : what to do if I have a mild cold\n",
            "1)Keeping hydrated is absolutely vital to help 'flush' out the cold, as well as to break down congestion and keep your throat lubricated. 2)Vitamin C is extremely helpful when fighting infection, so at the first sign of a cold be sure to increase your intake by eating plenty of berries, citrus fruits, papayas, broccoli and red peppers which will help keep you protected. 3)When it comes to combating a cold,Vitamin D is essential in helping to regulate immune response.\n",
            "You : which medicine to take if i have a fracture\n",
            "1)Stop any bleeding. Apply pressure to the wound with a sterile bandage, a clean cloth or a clean piece of clothing. 2)Immobilize the injured area. Don't try to realign the bone or push a bone that's sticking out back in. If you've been trained in how to splint and professional help isn't readily available, apply a splint to the area above and below the fracture sites. Padding the splints can help reduce discomfort. 3)Apply ice packs to limit swelling and help relieve pain. Don't apply ice directly to the skin. Wrap the ice in a towel, piece of cloth or some other material. 4)Treat for shock. If the person feels faint or is breathing in short, rapid breaths, lay the person down with the head slightly lower than the trunk and, if possible, elevate the legs.\n",
            "You : quit\n"
          ],
          "name": "stdout"
        }
      ]
    }
  ]
}