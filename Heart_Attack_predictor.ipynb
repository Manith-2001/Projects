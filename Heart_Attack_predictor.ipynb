{
  "nbformat": 4,
  "nbformat_minor": 0,
  "metadata": {
    "colab": {
      "name": "Heart_Attack_predictor.ipynb",
      "provenance": [],
      "authorship_tag": "ABX9TyNtPEI1UwaqJoRA4qljwU0d",
      "include_colab_link": true
    },
    "kernelspec": {
      "name": "python3",
      "display_name": "Python 3"
    },
    "language_info": {
      "name": "python"
    }
  },
  "cells": [
    {
      "cell_type": "markdown",
      "metadata": {
        "id": "view-in-github",
        "colab_type": "text"
      },
      "source": [
        "<a href=\"https://colab.research.google.com/github/Manith-2001/Projects/blob/main/Heart_Attack_predictor.ipynb\" target=\"_parent\"><img src=\"https://colab.research.google.com/assets/colab-badge.svg\" alt=\"Open In Colab\"/></a>"
      ]
    },
    {
      "cell_type": "code",
      "metadata": {
        "id": "iyv-GmXeVYNb"
      },
      "source": [
        "import pandas as pd\n",
        "import numpy as np\n",
        "import matplotlib.pyplot as plt\n",
        "import seaborn as sns"
      ],
      "execution_count": null,
      "outputs": []
    },
    {
      "cell_type": "markdown",
      "metadata": {
        "id": "snkzqzlUNvYj"
      },
      "source": [
        "# **Extracting Data from uploaded Zip file**"
      ]
    },
    {
      "cell_type": "code",
      "metadata": {
        "colab": {
          "base_uri": "https://localhost:8080/"
        },
        "id": "6E8XRpmAPsNn",
        "outputId": "36b7184e-3de6-4c43-d5b1-4f903d35550a"
      },
      "source": [
        "from zipfile import ZipFile\n",
        "file_name = 'archive.zip'\n",
        "with ZipFile(file_name, 'r') as zip:\n",
        "  zip.extractall()\n",
        "  print('Done')"
      ],
      "execution_count": null,
      "outputs": [
        {
          "output_type": "stream",
          "text": [
            "Done\n"
          ],
          "name": "stdout"
        }
      ]
    },
    {
      "cell_type": "code",
      "metadata": {
        "colab": {
          "base_uri": "https://localhost:8080/",
          "height": 206
        },
        "id": "gnr4Kde8VuTs",
        "outputId": "5b2a2cfe-3b61-4ec0-9aec-9887d296f805"
      },
      "source": [
        "data = pd.read_csv('/content/data.csv')\n",
        "data.head()"
      ],
      "execution_count": null,
      "outputs": [
        {
          "output_type": "execute_result",
          "data": {
            "text/html": [
              "<div>\n",
              "<style scoped>\n",
              "    .dataframe tbody tr th:only-of-type {\n",
              "        vertical-align: middle;\n",
              "    }\n",
              "\n",
              "    .dataframe tbody tr th {\n",
              "        vertical-align: top;\n",
              "    }\n",
              "\n",
              "    .dataframe thead th {\n",
              "        text-align: right;\n",
              "    }\n",
              "</style>\n",
              "<table border=\"1\" class=\"dataframe\">\n",
              "  <thead>\n",
              "    <tr style=\"text-align: right;\">\n",
              "      <th></th>\n",
              "      <th>age</th>\n",
              "      <th>sex</th>\n",
              "      <th>cp</th>\n",
              "      <th>trestbps</th>\n",
              "      <th>chol</th>\n",
              "      <th>fbs</th>\n",
              "      <th>restecg</th>\n",
              "      <th>thalach</th>\n",
              "      <th>exang</th>\n",
              "      <th>oldpeak</th>\n",
              "      <th>slope</th>\n",
              "      <th>ca</th>\n",
              "      <th>thal</th>\n",
              "      <th>num</th>\n",
              "    </tr>\n",
              "  </thead>\n",
              "  <tbody>\n",
              "    <tr>\n",
              "      <th>0</th>\n",
              "      <td>28</td>\n",
              "      <td>1</td>\n",
              "      <td>2</td>\n",
              "      <td>130</td>\n",
              "      <td>132</td>\n",
              "      <td>0</td>\n",
              "      <td>2</td>\n",
              "      <td>185</td>\n",
              "      <td>0</td>\n",
              "      <td>0.0</td>\n",
              "      <td>?</td>\n",
              "      <td>?</td>\n",
              "      <td>?</td>\n",
              "      <td>0</td>\n",
              "    </tr>\n",
              "    <tr>\n",
              "      <th>1</th>\n",
              "      <td>29</td>\n",
              "      <td>1</td>\n",
              "      <td>2</td>\n",
              "      <td>120</td>\n",
              "      <td>243</td>\n",
              "      <td>0</td>\n",
              "      <td>0</td>\n",
              "      <td>160</td>\n",
              "      <td>0</td>\n",
              "      <td>0.0</td>\n",
              "      <td>?</td>\n",
              "      <td>?</td>\n",
              "      <td>?</td>\n",
              "      <td>0</td>\n",
              "    </tr>\n",
              "    <tr>\n",
              "      <th>2</th>\n",
              "      <td>29</td>\n",
              "      <td>1</td>\n",
              "      <td>2</td>\n",
              "      <td>140</td>\n",
              "      <td>?</td>\n",
              "      <td>0</td>\n",
              "      <td>0</td>\n",
              "      <td>170</td>\n",
              "      <td>0</td>\n",
              "      <td>0.0</td>\n",
              "      <td>?</td>\n",
              "      <td>?</td>\n",
              "      <td>?</td>\n",
              "      <td>0</td>\n",
              "    </tr>\n",
              "    <tr>\n",
              "      <th>3</th>\n",
              "      <td>30</td>\n",
              "      <td>0</td>\n",
              "      <td>1</td>\n",
              "      <td>170</td>\n",
              "      <td>237</td>\n",
              "      <td>0</td>\n",
              "      <td>1</td>\n",
              "      <td>170</td>\n",
              "      <td>0</td>\n",
              "      <td>0.0</td>\n",
              "      <td>?</td>\n",
              "      <td>?</td>\n",
              "      <td>6</td>\n",
              "      <td>0</td>\n",
              "    </tr>\n",
              "    <tr>\n",
              "      <th>4</th>\n",
              "      <td>31</td>\n",
              "      <td>0</td>\n",
              "      <td>2</td>\n",
              "      <td>100</td>\n",
              "      <td>219</td>\n",
              "      <td>0</td>\n",
              "      <td>1</td>\n",
              "      <td>150</td>\n",
              "      <td>0</td>\n",
              "      <td>0.0</td>\n",
              "      <td>?</td>\n",
              "      <td>?</td>\n",
              "      <td>?</td>\n",
              "      <td>0</td>\n",
              "    </tr>\n",
              "  </tbody>\n",
              "</table>\n",
              "</div>"
            ],
            "text/plain": [
              "   age  sex  cp trestbps chol fbs  ... exang oldpeak slope  ca thal num       \n",
              "0   28    1   2      130  132   0  ...     0     0.0     ?   ?    ?          0\n",
              "1   29    1   2      120  243   0  ...     0     0.0     ?   ?    ?          0\n",
              "2   29    1   2      140    ?   0  ...     0     0.0     ?   ?    ?          0\n",
              "3   30    0   1      170  237   0  ...     0     0.0     ?   ?    6          0\n",
              "4   31    0   2      100  219   0  ...     0     0.0     ?   ?    ?          0\n",
              "\n",
              "[5 rows x 14 columns]"
            ]
          },
          "metadata": {
            "tags": []
          },
          "execution_count": 4
        }
      ]
    },
    {
      "cell_type": "markdown",
      "metadata": {
        "id": "TI5kYd_AOCH2"
      },
      "source": [
        "# **Data Preprocessing**"
      ]
    },
    {
      "cell_type": "code",
      "metadata": {
        "colab": {
          "base_uri": "https://localhost:8080/",
          "height": 206
        },
        "id": "hMaLBNvOV3Se",
        "outputId": "c412ed9e-f0a3-45f0-9513-c7e71f4aff4e"
      },
      "source": [
        "data.rename(columns = {'num       ':'target'}, inplace = True)\n",
        "data = data.replace('?', 0)\n",
        "data.head()"
      ],
      "execution_count": null,
      "outputs": [
        {
          "output_type": "execute_result",
          "data": {
            "text/html": [
              "<div>\n",
              "<style scoped>\n",
              "    .dataframe tbody tr th:only-of-type {\n",
              "        vertical-align: middle;\n",
              "    }\n",
              "\n",
              "    .dataframe tbody tr th {\n",
              "        vertical-align: top;\n",
              "    }\n",
              "\n",
              "    .dataframe thead th {\n",
              "        text-align: right;\n",
              "    }\n",
              "</style>\n",
              "<table border=\"1\" class=\"dataframe\">\n",
              "  <thead>\n",
              "    <tr style=\"text-align: right;\">\n",
              "      <th></th>\n",
              "      <th>age</th>\n",
              "      <th>sex</th>\n",
              "      <th>cp</th>\n",
              "      <th>trestbps</th>\n",
              "      <th>chol</th>\n",
              "      <th>fbs</th>\n",
              "      <th>restecg</th>\n",
              "      <th>thalach</th>\n",
              "      <th>exang</th>\n",
              "      <th>oldpeak</th>\n",
              "      <th>slope</th>\n",
              "      <th>ca</th>\n",
              "      <th>thal</th>\n",
              "      <th>target</th>\n",
              "    </tr>\n",
              "  </thead>\n",
              "  <tbody>\n",
              "    <tr>\n",
              "      <th>0</th>\n",
              "      <td>-2.542347</td>\n",
              "      <td>1</td>\n",
              "      <td>2</td>\n",
              "      <td>-0.111147</td>\n",
              "      <td>-1.061271</td>\n",
              "      <td>0</td>\n",
              "      <td>2</td>\n",
              "      <td>1.863747</td>\n",
              "      <td>0</td>\n",
              "      <td>-0.646074</td>\n",
              "      <td>0</td>\n",
              "      <td>0</td>\n",
              "      <td>0</td>\n",
              "      <td>0</td>\n",
              "    </tr>\n",
              "    <tr>\n",
              "      <th>1</th>\n",
              "      <td>-2.414117</td>\n",
              "      <td>1</td>\n",
              "      <td>2</td>\n",
              "      <td>-0.632313</td>\n",
              "      <td>0.125947</td>\n",
              "      <td>0</td>\n",
              "      <td>0</td>\n",
              "      <td>0.858350</td>\n",
              "      <td>0</td>\n",
              "      <td>-0.646074</td>\n",
              "      <td>0</td>\n",
              "      <td>0</td>\n",
              "      <td>0</td>\n",
              "      <td>0</td>\n",
              "    </tr>\n",
              "    <tr>\n",
              "      <th>2</th>\n",
              "      <td>-2.414117</td>\n",
              "      <td>1</td>\n",
              "      <td>2</td>\n",
              "      <td>0.410019</td>\n",
              "      <td>-2.473097</td>\n",
              "      <td>0</td>\n",
              "      <td>0</td>\n",
              "      <td>1.260509</td>\n",
              "      <td>0</td>\n",
              "      <td>-0.646074</td>\n",
              "      <td>0</td>\n",
              "      <td>0</td>\n",
              "      <td>0</td>\n",
              "      <td>0</td>\n",
              "    </tr>\n",
              "    <tr>\n",
              "      <th>3</th>\n",
              "      <td>-2.285888</td>\n",
              "      <td>0</td>\n",
              "      <td>1</td>\n",
              "      <td>1.973518</td>\n",
              "      <td>0.061773</td>\n",
              "      <td>0</td>\n",
              "      <td>1</td>\n",
              "      <td>1.260509</td>\n",
              "      <td>0</td>\n",
              "      <td>-0.646074</td>\n",
              "      <td>0</td>\n",
              "      <td>0</td>\n",
              "      <td>6</td>\n",
              "      <td>0</td>\n",
              "    </tr>\n",
              "    <tr>\n",
              "      <th>4</th>\n",
              "      <td>-2.157658</td>\n",
              "      <td>0</td>\n",
              "      <td>2</td>\n",
              "      <td>-1.674645</td>\n",
              "      <td>-0.130749</td>\n",
              "      <td>0</td>\n",
              "      <td>1</td>\n",
              "      <td>0.456191</td>\n",
              "      <td>0</td>\n",
              "      <td>-0.646074</td>\n",
              "      <td>0</td>\n",
              "      <td>0</td>\n",
              "      <td>0</td>\n",
              "      <td>0</td>\n",
              "    </tr>\n",
              "  </tbody>\n",
              "</table>\n",
              "</div>"
            ],
            "text/plain": [
              "        age  sex  cp  trestbps      chol  ...   oldpeak slope  ca thal  target\n",
              "0 -2.542347    1   2 -0.111147 -1.061271  ... -0.646074     0   0    0       0\n",
              "1 -2.414117    1   2 -0.632313  0.125947  ... -0.646074     0   0    0       0\n",
              "2 -2.414117    1   2  0.410019 -2.473097  ... -0.646074     0   0    0       0\n",
              "3 -2.285888    0   1  1.973518  0.061773  ... -0.646074     0   0    6       0\n",
              "4 -2.157658    0   2 -1.674645 -0.130749  ... -0.646074     0   0    0       0\n",
              "\n",
              "[5 rows x 14 columns]"
            ]
          },
          "metadata": {
            "tags": []
          },
          "execution_count": 28
        }
      ]
    },
    {
      "cell_type": "code",
      "metadata": {
        "id": "zpqQLbV1WjOJ"
      },
      "source": [
        "from sklearn.preprocessing import StandardScaler\n",
        "standard_scaler = StandardScaler()\n",
        "columns_to_scale = ['age', 'trestbps', 'chol', 'thalach', 'oldpeak']\n",
        "data[columns_to_scale] = standard_scaler.fit_transform(data[columns_to_scale])"
      ],
      "execution_count": null,
      "outputs": []
    },
    {
      "cell_type": "code",
      "metadata": {
        "colab": {
          "base_uri": "https://localhost:8080/",
          "height": 206
        },
        "id": "0uoXeD7SXY7D",
        "outputId": "657e662b-3a75-4417-fa07-86e10883cb39"
      },
      "source": [
        "data.head()"
      ],
      "execution_count": null,
      "outputs": [
        {
          "output_type": "execute_result",
          "data": {
            "text/html": [
              "<div>\n",
              "<style scoped>\n",
              "    .dataframe tbody tr th:only-of-type {\n",
              "        vertical-align: middle;\n",
              "    }\n",
              "\n",
              "    .dataframe tbody tr th {\n",
              "        vertical-align: top;\n",
              "    }\n",
              "\n",
              "    .dataframe thead th {\n",
              "        text-align: right;\n",
              "    }\n",
              "</style>\n",
              "<table border=\"1\" class=\"dataframe\">\n",
              "  <thead>\n",
              "    <tr style=\"text-align: right;\">\n",
              "      <th></th>\n",
              "      <th>age</th>\n",
              "      <th>sex</th>\n",
              "      <th>cp</th>\n",
              "      <th>trestbps</th>\n",
              "      <th>chol</th>\n",
              "      <th>fbs</th>\n",
              "      <th>restecg</th>\n",
              "      <th>thalach</th>\n",
              "      <th>exang</th>\n",
              "      <th>oldpeak</th>\n",
              "      <th>slope</th>\n",
              "      <th>ca</th>\n",
              "      <th>thal</th>\n",
              "      <th>target</th>\n",
              "    </tr>\n",
              "  </thead>\n",
              "  <tbody>\n",
              "    <tr>\n",
              "      <th>0</th>\n",
              "      <td>-2.542347</td>\n",
              "      <td>1</td>\n",
              "      <td>2</td>\n",
              "      <td>-0.111147</td>\n",
              "      <td>-1.061271</td>\n",
              "      <td>0</td>\n",
              "      <td>2</td>\n",
              "      <td>1.863747</td>\n",
              "      <td>0</td>\n",
              "      <td>-0.646074</td>\n",
              "      <td>0</td>\n",
              "      <td>0</td>\n",
              "      <td>0</td>\n",
              "      <td>0</td>\n",
              "    </tr>\n",
              "    <tr>\n",
              "      <th>1</th>\n",
              "      <td>-2.414117</td>\n",
              "      <td>1</td>\n",
              "      <td>2</td>\n",
              "      <td>-0.632313</td>\n",
              "      <td>0.125947</td>\n",
              "      <td>0</td>\n",
              "      <td>0</td>\n",
              "      <td>0.858350</td>\n",
              "      <td>0</td>\n",
              "      <td>-0.646074</td>\n",
              "      <td>0</td>\n",
              "      <td>0</td>\n",
              "      <td>0</td>\n",
              "      <td>0</td>\n",
              "    </tr>\n",
              "    <tr>\n",
              "      <th>2</th>\n",
              "      <td>-2.414117</td>\n",
              "      <td>1</td>\n",
              "      <td>2</td>\n",
              "      <td>0.410019</td>\n",
              "      <td>-2.473097</td>\n",
              "      <td>0</td>\n",
              "      <td>0</td>\n",
              "      <td>1.260509</td>\n",
              "      <td>0</td>\n",
              "      <td>-0.646074</td>\n",
              "      <td>0</td>\n",
              "      <td>0</td>\n",
              "      <td>0</td>\n",
              "      <td>0</td>\n",
              "    </tr>\n",
              "    <tr>\n",
              "      <th>3</th>\n",
              "      <td>-2.285888</td>\n",
              "      <td>0</td>\n",
              "      <td>1</td>\n",
              "      <td>1.973518</td>\n",
              "      <td>0.061773</td>\n",
              "      <td>0</td>\n",
              "      <td>1</td>\n",
              "      <td>1.260509</td>\n",
              "      <td>0</td>\n",
              "      <td>-0.646074</td>\n",
              "      <td>0</td>\n",
              "      <td>0</td>\n",
              "      <td>6</td>\n",
              "      <td>0</td>\n",
              "    </tr>\n",
              "    <tr>\n",
              "      <th>4</th>\n",
              "      <td>-2.157658</td>\n",
              "      <td>0</td>\n",
              "      <td>2</td>\n",
              "      <td>-1.674645</td>\n",
              "      <td>-0.130749</td>\n",
              "      <td>0</td>\n",
              "      <td>1</td>\n",
              "      <td>0.456191</td>\n",
              "      <td>0</td>\n",
              "      <td>-0.646074</td>\n",
              "      <td>0</td>\n",
              "      <td>0</td>\n",
              "      <td>0</td>\n",
              "      <td>0</td>\n",
              "    </tr>\n",
              "  </tbody>\n",
              "</table>\n",
              "</div>"
            ],
            "text/plain": [
              "        age  sex  cp  trestbps      chol  ...   oldpeak slope  ca thal  target\n",
              "0 -2.542347    1   2 -0.111147 -1.061271  ... -0.646074     0   0    0       0\n",
              "1 -2.414117    1   2 -0.632313  0.125947  ... -0.646074     0   0    0       0\n",
              "2 -2.414117    1   2  0.410019 -2.473097  ... -0.646074     0   0    0       0\n",
              "3 -2.285888    0   1  1.973518  0.061773  ... -0.646074     0   0    6       0\n",
              "4 -2.157658    0   2 -1.674645 -0.130749  ... -0.646074     0   0    0       0\n",
              "\n",
              "[5 rows x 14 columns]"
            ]
          },
          "metadata": {
            "tags": []
          },
          "execution_count": 7
        }
      ]
    },
    {
      "cell_type": "code",
      "metadata": {
        "id": "RnrOrh2jXfcv"
      },
      "source": [
        "from sklearn.model_selection import train_test_split\n",
        "y = data['target']\n",
        "X = data.drop('target', axis = 1)\n",
        "X_train, X_test, y_train, y_test = train_test_split(X,y,test_size = 0.2, random_state = 0)"
      ],
      "execution_count": null,
      "outputs": []
    },
    {
      "cell_type": "markdown",
      "metadata": {
        "id": "v91lNSnJOKXv"
      },
      "source": [
        "# **Models**\n",
        "We train 3 different models to monitor which one gives the best performance"
      ]
    },
    {
      "cell_type": "markdown",
      "metadata": {
        "id": "btVQECY0PGNu"
      },
      "source": [
        "The best way to measure these models is to see which one has the highest recall since decreasing False Negatives has higher priority  "
      ]
    },
    {
      "cell_type": "markdown",
      "metadata": {
        "id": "ufHnbjVuObk1"
      },
      "source": [
        "# **Random Forest Classifier**"
      ]
    },
    {
      "cell_type": "code",
      "metadata": {
        "colab": {
          "base_uri": "https://localhost:8080/"
        },
        "id": "DLOe4v9eX_kn",
        "outputId": "f457b91e-354e-4b00-a0e2-d7ffaa568669"
      },
      "source": [
        "from sklearn.ensemble import RandomForestClassifier\n",
        "from sklearn.metrics import confusion_matrix, accuracy_score, classification_report\n",
        "\n",
        "model = RandomForestClassifier(n_estimators = 750, random_state = 1)\n",
        "model.fit(X_train, y_train)\n",
        "preds_rf = model.predict(X_test)\n",
        "accuracy_rf = accuracy_score(y_test, preds_rf)\n",
        "print(classification_report(y_test, preds_rf))\n",
        "print('\\n')\n",
        "print(\"accuracy is {}\".format(accuracy_rf*100))"
      ],
      "execution_count": null,
      "outputs": [
        {
          "output_type": "stream",
          "text": [
            "              precision    recall  f1-score   support\n",
            "\n",
            "           0       0.83      0.91      0.87        33\n",
            "           1       0.87      0.77      0.82        26\n",
            "\n",
            "    accuracy                           0.85        59\n",
            "   macro avg       0.85      0.84      0.84        59\n",
            "weighted avg       0.85      0.85      0.85        59\n",
            "\n",
            "\n",
            "\n",
            "accuracy is 84.7457627118644\n"
          ],
          "name": "stdout"
        }
      ]
    },
    {
      "cell_type": "markdown",
      "metadata": {
        "id": "QTYQuFntOibg"
      },
      "source": [
        "# **Logistic Regression**"
      ]
    },
    {
      "cell_type": "code",
      "metadata": {
        "colab": {
          "base_uri": "https://localhost:8080/"
        },
        "id": "K4nE9nkAZ9m5",
        "outputId": "136e5440-fc98-4498-b208-2a3efc1d6ae5"
      },
      "source": [
        "from sklearn.linear_model import LogisticRegression\n",
        "\n",
        "lr = LogisticRegression()\n",
        "model_lr = lr.fit(X_train, y_train)\n",
        "preds_lr = lr.predict(X_test)\n",
        "accuracy_lr = accuracy_score(y_test , preds_lr)\n",
        "print(classification_report(y_test, preds_lr))\n",
        "print('\\n')\n",
        "print('accuracy is {}'.format(accuracy_lr*100))"
      ],
      "execution_count": null,
      "outputs": [
        {
          "output_type": "stream",
          "text": [
            "              precision    recall  f1-score   support\n",
            "\n",
            "           0       0.83      0.91      0.87        33\n",
            "           1       0.87      0.77      0.82        26\n",
            "\n",
            "    accuracy                           0.85        59\n",
            "   macro avg       0.85      0.84      0.84        59\n",
            "weighted avg       0.85      0.85      0.85        59\n",
            "\n",
            "\n",
            "\n",
            "accuracy is 84.7457627118644\n"
          ],
          "name": "stdout"
        }
      ]
    },
    {
      "cell_type": "markdown",
      "metadata": {
        "id": "34v7HHlaOoko"
      },
      "source": [
        "# **MultiLayer Perceptron**"
      ]
    },
    {
      "cell_type": "code",
      "metadata": {
        "colab": {
          "base_uri": "https://localhost:8080/"
        },
        "id": "Ztlc46X8ejo9",
        "outputId": "68b35075-9ffa-432b-aa32-0a605d4591f4"
      },
      "source": [
        "from sklearn.neural_network import MLPClassifier\n",
        "MLP = MLPClassifier(hidden_layer_sizes = (32), learning_rate_init = 0.001, max_iter = 75)\n",
        "model_mlp = MLP.fit(X_train, y_train)\n",
        "preds_mlp = MLP.predict(X_test)\n",
        "accuracy_mlp = accuracy_score(y_test, preds_mlp)\n",
        "print(classification_report(y_test, preds_mlp) + '\\n')\n",
        "print('accuracy is {}'.format(accuracy_mlp*100))"
      ],
      "execution_count": null,
      "outputs": [
        {
          "output_type": "stream",
          "text": [
            "              precision    recall  f1-score   support\n",
            "\n",
            "           0       0.76      0.88      0.82        33\n",
            "           1       0.81      0.65      0.72        26\n",
            "\n",
            "    accuracy                           0.78        59\n",
            "   macro avg       0.79      0.77      0.77        59\n",
            "weighted avg       0.78      0.78      0.78        59\n",
            "\n",
            "\n",
            "accuracy is 77.96610169491525\n"
          ],
          "name": "stdout"
        },
        {
          "output_type": "stream",
          "text": [
            "/usr/local/lib/python3.7/dist-packages/sklearn/neural_network/_multilayer_perceptron.py:571: ConvergenceWarning: Stochastic Optimizer: Maximum iterations (75) reached and the optimization hasn't converged yet.\n",
            "  % self.max_iter, ConvergenceWarning)\n"
          ],
          "name": "stderr"
        }
      ]
    }
  ]
}